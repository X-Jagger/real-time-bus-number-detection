{
 "cells": [
  {
   "cell_type": "code",
   "execution_count": 3,
   "metadata": {},
   "outputs": [
    {
     "name": "stdout",
     "output_type": "stream",
     "text": [
      "(161.7321450869813, 51.52602106995369, 129.6003244393305)\n",
      "(124.32167175253895, 254.0977709568281, 162.83454710201806)\n",
      "(17.28732348336832, 81.1330808324954, 87.90641030159138)\n",
      "(56.15781482678556, 205.00181505813907, 177.84287796838566)\n",
      "(86.36256031883126, 241.43414784275805, 99.81830835233333)\n",
      "[0.35287689 0.91358983 0.88682224]\n"
     ]
    }
   ],
   "source": [
    "import cv2\n",
    "from darkflow.net.build import TFNet\n",
    "import numpy as np\n",
    "import time\n",
    "\n",
    "option = {\n",
    "    'model': 'cfg/yolo.cfg',\n",
    "    'load': 'bin/yolov2.weights',\n",
    "    'threshold': 0.15,\n",
    "    'gpu': 0.7\n",
    "}\n",
    "\n",
    "tfnet = TFNet(option)\n",
    "\n",
    "capture = cv2.VideoCapture('videofile.mp4')\n",
    "colors = [tuple(255 * np.random.rand(3)) for i in range(5)]\n",
    "\n",
    "while(capture.isOpened()):\n",
    "    stime = time.time()\n",
    "    ret,frame = capture.read()\n",
    "    results = tfnet.return_predict(frame)\n",
    "    if ret:\n",
    "        for color,result in zip(colors,results):\n",
    "            tl = (result[0]['topleft']['x'],result[0]['topleft']['y'])\n",
    "            br = (result[0]['bottomright']['x'],result[0]['bottomright']['y'])\n",
    "            label = result[0]['label']\n",
    "            frame = cv2.rectangle(frame,tl,br,color,7)\n",
    "            img = cv2.putText(frame,label,(tl[0]+200,tl[1]+200),cv2.FONT_HERSHEY_COMPLEX,1,(0,0,0),2)\n",
    "        cv2.imshow('frame',frame)\n",
    "        \n",
    "        print('FPS {:.1f}'.format(1/(time.time() -stime)))\n",
    "        if cv2.waitKey(1) & 0xFF == ord('q'):\n",
    "            break\n",
    "    else:\n",
    "        capture.release()\n",
    "        cv2.destroyAllwindows()\n",
    "        break"
   ]
  }
 ],
 "metadata": {
  "kernelspec": {
   "display_name": "Python 3",
   "language": "python",
   "name": "python3"
  },
  "language_info": {
   "codemirror_mode": {
    "name": "ipython",
    "version": 3
   },
   "file_extension": ".py",
   "mimetype": "text/x-python",
   "name": "python",
   "nbconvert_exporter": "python",
   "pygments_lexer": "ipython3",
   "version": "3.5.2"
  }
 },
 "nbformat": 4,
 "nbformat_minor": 2
}
